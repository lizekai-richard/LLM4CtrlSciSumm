{
 "cells": [
  {
   "cell_type": "code",
   "execution_count": 1,
   "id": "b9524a06",
   "metadata": {},
   "outputs": [
    {
     "name": "stdout",
     "output_type": "stream",
     "text": [
      "Collecting galai\n",
      "  Downloading galai-1.1.6.tar.gz (27 kB)\n",
      "Requirement already satisfied: torch>=1.12 in /home/yanxia/anaconda3/lib/python3.9/site-packages (from galai) (1.13.0)\n",
      "Requirement already satisfied: transformers==4.25.1 in /home/yanxia/anaconda3/lib/python3.9/site-packages (from galai) (4.25.1)\n",
      "Requirement already satisfied: tokenizers in /home/yanxia/anaconda3/lib/python3.9/site-packages (from galai) (0.13.2)\n",
      "Collecting parallelformers==1.2.7\n",
      "  Downloading parallelformers-1.2.7.tar.gz (48 kB)\n",
      "\u001b[K     |████████████████████████████████| 48 kB 14.0 MB/s eta 0:00:01\n",
      "\u001b[?25hCollecting accelerate\n",
      "  Downloading accelerate-0.17.1-py3-none-any.whl (212 kB)\n",
      "\u001b[K     |████████████████████████████████| 212 kB 33.6 MB/s eta 0:00:01\n",
      "\u001b[?25hRequirement already satisfied: markdown>=3.4 in /home/yanxia/anaconda3/lib/python3.9/site-packages (from galai) (3.4.1)\n",
      "Collecting bleach[css]~=5.0.1\n",
      "  Downloading bleach-5.0.1-py3-none-any.whl (160 kB)\n",
      "\u001b[K     |████████████████████████████████| 160 kB 37.0 MB/s eta 0:00:01\n",
      "\u001b[?25hRequirement already satisfied: psutil in /home/yanxia/anaconda3/lib/python3.9/site-packages (from galai) (5.8.0)\n",
      "Collecting dacite\n",
      "  Downloading dacite-1.8.0-py3-none-any.whl (14 kB)\n",
      "Requirement already satisfied: regex!=2019.12.17 in /home/yanxia/anaconda3/lib/python3.9/site-packages (from transformers==4.25.1->galai) (2021.8.3)\n",
      "Requirement already satisfied: numpy>=1.17 in /home/yanxia/anaconda3/lib/python3.9/site-packages (from transformers==4.25.1->galai) (1.20.3)\n",
      "Requirement already satisfied: requests in /home/yanxia/anaconda3/lib/python3.9/site-packages (from transformers==4.25.1->galai) (2.26.0)\n",
      "Requirement already satisfied: huggingface-hub<1.0,>=0.10.0 in /home/yanxia/anaconda3/lib/python3.9/site-packages (from transformers==4.25.1->galai) (0.11.1)\n",
      "Requirement already satisfied: pyyaml>=5.1 in /home/yanxia/anaconda3/lib/python3.9/site-packages (from transformers==4.25.1->galai) (6.0)\n",
      "Requirement already satisfied: tqdm>=4.27 in /home/yanxia/anaconda3/lib/python3.9/site-packages (from transformers==4.25.1->galai) (4.62.3)\n",
      "Requirement already satisfied: packaging>=20.0 in /home/yanxia/anaconda3/lib/python3.9/site-packages (from transformers==4.25.1->galai) (21.0)\n",
      "Requirement already satisfied: filelock in /home/yanxia/anaconda3/lib/python3.9/site-packages (from transformers==4.25.1->galai) (3.3.1)\n",
      "Requirement already satisfied: six>=1.9.0 in /home/yanxia/anaconda3/lib/python3.9/site-packages (from bleach[css]~=5.0.1->galai) (1.16.0)\n",
      "Requirement already satisfied: webencodings in /home/yanxia/anaconda3/lib/python3.9/site-packages (from bleach[css]~=5.0.1->galai) (0.5.1)\n",
      "Collecting tinycss2<1.2,>=1.1.0\n",
      "  Downloading tinycss2-1.1.1-py3-none-any.whl (21 kB)\n",
      "Requirement already satisfied: typing-extensions>=3.7.4.3 in /home/yanxia/anaconda3/lib/python3.9/site-packages (from huggingface-hub<1.0,>=0.10.0->transformers==4.25.1->galai) (4.4.0)\n",
      "Requirement already satisfied: importlib-metadata>=4.4 in /home/yanxia/anaconda3/lib/python3.9/site-packages (from markdown>=3.4->galai) (6.0.0)\n",
      "Requirement already satisfied: zipp>=0.5 in /home/yanxia/anaconda3/lib/python3.9/site-packages (from importlib-metadata>=4.4->markdown>=3.4->galai) (3.6.0)\n",
      "Requirement already satisfied: pyparsing>=2.0.2 in /home/yanxia/anaconda3/lib/python3.9/site-packages (from packaging>=20.0->transformers==4.25.1->galai) (3.0.4)\n",
      "Requirement already satisfied: nvidia-cuda-nvrtc-cu11==11.7.99 in /home/yanxia/anaconda3/lib/python3.9/site-packages (from torch>=1.12->galai) (11.7.99)\n",
      "Requirement already satisfied: nvidia-cublas-cu11==11.10.3.66 in /home/yanxia/anaconda3/lib/python3.9/site-packages (from torch>=1.12->galai) (11.10.3.66)\n",
      "Requirement already satisfied: nvidia-cudnn-cu11==8.5.0.96 in /home/yanxia/anaconda3/lib/python3.9/site-packages (from torch>=1.12->galai) (8.5.0.96)\n",
      "Requirement already satisfied: nvidia-cuda-runtime-cu11==11.7.99 in /home/yanxia/anaconda3/lib/python3.9/site-packages (from torch>=1.12->galai) (11.7.99)\n",
      "Requirement already satisfied: wheel in /home/yanxia/anaconda3/lib/python3.9/site-packages (from nvidia-cublas-cu11==11.10.3.66->torch>=1.12->galai) (0.37.0)\n",
      "Requirement already satisfied: setuptools in /home/yanxia/anaconda3/lib/python3.9/site-packages (from nvidia-cublas-cu11==11.10.3.66->torch>=1.12->galai) (58.0.4)\n",
      "Requirement already satisfied: charset-normalizer~=2.0.0 in /home/yanxia/anaconda3/lib/python3.9/site-packages (from requests->transformers==4.25.1->galai) (2.0.4)\n",
      "Requirement already satisfied: urllib3<1.27,>=1.21.1 in /home/yanxia/anaconda3/lib/python3.9/site-packages (from requests->transformers==4.25.1->galai) (1.26.7)\n",
      "Requirement already satisfied: idna<4,>=2.5 in /home/yanxia/anaconda3/lib/python3.9/site-packages (from requests->transformers==4.25.1->galai) (3.2)\n",
      "Requirement already satisfied: certifi>=2017.4.17 in /home/yanxia/anaconda3/lib/python3.9/site-packages (from requests->transformers==4.25.1->galai) (2021.10.8)\n",
      "Building wheels for collected packages: galai, parallelformers\n",
      "  Building wheel for galai (setup.py) ... \u001b[?25ldone\n",
      "\u001b[?25h  Created wheel for galai: filename=galai-1.1.6-py3-none-any.whl size=24748 sha256=bd36106cb0a73c3f6bb7f07c9b73f974f26ad91421532c597c9459e81223e8f9\n",
      "  Stored in directory: /home/yanxia/.cache/pip/wheels/70/83/b0/501cd5230497223a562d19a35bf890a326ebb2124e5e7a9db1\n",
      "  Building wheel for parallelformers (setup.py) ... \u001b[?25ldone\n",
      "\u001b[?25h  Created wheel for parallelformers: filename=parallelformers-1.2.7-py3-none-any.whl size=117791 sha256=3460678acd90fb5ab09c9b125512d7f67f6d607d5565d7b29b0f608d34fe4ae7\n",
      "  Stored in directory: /home/yanxia/.cache/pip/wheels/4f/19/42/8d74380c84a1e93401ee163f3bd545853051a4d895fd95ca2e\n",
      "Successfully built galai parallelformers\n",
      "Installing collected packages: tinycss2, dacite, bleach, parallelformers, accelerate, galai\n",
      "  Attempting uninstall: bleach\n",
      "    Found existing installation: bleach 4.0.0\n",
      "    Uninstalling bleach-4.0.0:\n",
      "      Successfully uninstalled bleach-4.0.0\n",
      "Successfully installed accelerate-0.17.1 bleach-5.0.1 dacite-1.8.0 galai-1.1.6 parallelformers-1.2.7 tinycss2-1.1.1\n",
      "Note: you may need to restart the kernel to use updated packages.\n"
     ]
    }
   ],
   "source": [
    "pip install galai"
   ]
  },
  {
   "cell_type": "code",
   "execution_count": 6,
   "id": "13c6fb7e",
   "metadata": {},
   "outputs": [
    {
     "data": {
      "application/vnd.jupyter.widget-view+json": {
       "model_id": "9c47345061a248dfbc4df97176e1eb6b",
       "version_major": 2,
       "version_minor": 0
      },
      "text/plain": [
       "Downloading:   0%|          | 0.00/166 [00:00<?, ?B/s]"
      ]
     },
     "metadata": {},
     "output_type": "display_data"
    },
    {
     "data": {
      "application/vnd.jupyter.widget-view+json": {
       "model_id": "4d3c388b379b47549daaa0978e1e8bc9",
       "version_major": 2,
       "version_minor": 0
      },
      "text/plain": [
       "Downloading:   0%|          | 0.00/2.14M [00:00<?, ?B/s]"
      ]
     },
     "metadata": {},
     "output_type": "display_data"
    },
    {
     "data": {
      "application/vnd.jupyter.widget-view+json": {
       "model_id": "2d53144962824636980bf48cdfc56601",
       "version_major": 2,
       "version_minor": 0
      },
      "text/plain": [
       "Downloading:   0%|          | 0.00/3.00 [00:00<?, ?B/s]"
      ]
     },
     "metadata": {},
     "output_type": "display_data"
    },
    {
     "data": {
      "application/vnd.jupyter.widget-view+json": {
       "model_id": "d56120eea4b34f848ff1e178d2bf6c56",
       "version_major": 2,
       "version_minor": 0
      },
      "text/plain": [
       "Downloading:   0%|          | 0.00/789 [00:00<?, ?B/s]"
      ]
     },
     "metadata": {},
     "output_type": "display_data"
    },
    {
     "data": {
      "application/vnd.jupyter.widget-view+json": {
       "model_id": "e3b62bbbe30e40d18902f61ba40dae02",
       "version_major": 2,
       "version_minor": 0
      },
      "text/plain": [
       "Downloading:   0%|          | 0.00/2.63G [00:00<?, ?B/s]"
      ]
     },
     "metadata": {},
     "output_type": "display_data"
    }
   ],
   "source": [
    "import galai as gal\n",
    "\n",
    "#model = gal.load_model(\"standard\")\n",
    "model = gal.load_model(\"base\")"
   ]
  },
  {
   "cell_type": "code",
   "execution_count": 8,
   "id": "1e1af89d",
   "metadata": {},
   "outputs": [],
   "source": [
    "import time\n",
    "from galai.notebook_utils import *"
   ]
  },
  {
   "cell_type": "code",
   "execution_count": 10,
   "id": "50b61383",
   "metadata": {},
   "outputs": [
    {
     "data": {
      "text/html": [
       "<p><strong>Prompt</strong>:\n",
       "Scaled dot product attention:</p>\n",
       "<p>$$</p>\n",
       "<p><strong>Output</strong>: Scaled dot product attention:</p>\n",
       "<p>$$ \\displaystyle\\text{Scaled dot product attention}(Q,K,V)=\\text{softmax}(\\frac{QK^{%\n",
       "T}}{\\sqrt{d_{k}}})V $$ (1)</p>\n",
       "<p>where $Q\\in\\mathbb{R}^{n\\times d_{q}}$, $K\\in\\mathbb{R}^{n</p>"
      ],
      "text/plain": [
       "<IPython.core.display.HTML object>"
      ]
     },
     "execution_count": 10,
     "metadata": {},
     "output_type": "execute_result"
    }
   ],
   "source": [
    "prompt = \"Scaled dot product attention:\\n\\n\\\\[\"\n",
    "#print(\"Generation start time:\", time.asctime())\n",
    "output = model.generate(prompt, max_new_tokens=100)\n",
    "# Scaled dot product attention:\\n\\n\\\\[ \\\\displaystyle\\\\text{Attention}(Q,K,V)=\\\\text{softmax}(\\\\frac{QK^{T}}{\\\\sqrt{d_{k}}}%\\n)V \\\\]\n",
    "display_markdown(f\"**Prompt**:\\n{prompt}\\n\\n**Output**: {output}\")\n",
    "#print(\"Generation end time:\", time.asctime())"
   ]
  },
  {
   "cell_type": "code",
   "execution_count": 13,
   "id": "319194ab",
   "metadata": {},
   "outputs": [
    {
     "data": {
      "text/html": [
       "<p><strong>Prompt</strong>: The paper that presented a novel computing block given by the formula:\n",
       "$$\n",
       "f(A, K, V) = \\textrm{softmax}\\left(\\frac{AK^T}{\\sqrt{d_k}}\\right)V\n",
       "$$</p>\n",
       "<p><strong>Reference</strong>: A Simple Framework for Contrastive Learning of Visual Representations, Chen</p>"
      ],
      "text/plain": [
       "<IPython.core.display.HTML object>"
      ]
     },
     "execution_count": 13,
     "metadata": {},
     "output_type": "execute_result"
    }
   ],
   "source": [
    "prompt = \"\"\"The paper that presented a novel computing block given by the formula:\n",
    "\\\\[\n",
    "f(A, K, V) = \\\\textrm{softmax}\\\\left(\\\\frac{AK^T}{\\\\sqrt{d_k}}\\\\right)V\n",
    "\\\\]\n",
    "\n",
    "\"\"\"\n",
    "#print(\"Generation start time:\", time.asctime())\n",
    "reference = model.generate_reference(prompt)\n",
    "display_markdown(f\"**Prompt**: {prompt}\\n\\n**Reference**: {reference}\")\n",
    "#print(\"Generation end time:\", time.asctime())"
   ]
  },
  {
   "cell_type": "code",
   "execution_count": 14,
   "id": "c58d93f8",
   "metadata": {},
   "outputs": [
    {
     "data": {
      "text/html": [
       "<p><strong>Prompt</strong>: The paper that presented a novel computing block given by the formula:\n",
       "$$\n",
       "f(Q, K, V) = \\textrm{softmax}\\left(\\frac{QK^T}{\\sqrt{d_k}}\\right)V\n",
       "$$</p>\n",
       "<p><strong>Reference</strong>: Attention is All you Need, Vaswani</p>"
      ],
      "text/plain": [
       "<IPython.core.display.HTML object>"
      ]
     },
     "execution_count": 14,
     "metadata": {},
     "output_type": "execute_result"
    }
   ],
   "source": [
    "prompt = \"\"\"The paper that presented a novel computing block given by the formula:\n",
    "\\\\[\n",
    "f(Q, K, V) = \\\\textrm{softmax}\\\\left(\\\\frac{QK^T}{\\\\sqrt{d_k}}\\\\right)V\n",
    "\\\\]\n",
    "\n",
    "\"\"\"\n",
    "#print(\"Generation start time:\", time.asctime())\n",
    "reference = model.generate_reference(prompt)\n",
    "display_markdown(f\"**Prompt**: {prompt}\\n\\n**Reference**: {reference}\")\n",
    "#print(\"Generation end time:\", time.asctime())"
   ]
  },
  {
   "cell_type": "code",
   "execution_count": null,
   "id": "9e3c2fa2",
   "metadata": {},
   "outputs": [],
   "source": []
  }
 ],
 "metadata": {
  "kernelspec": {
   "display_name": "Python 3 (ipykernel)",
   "language": "python",
   "name": "python3"
  },
  "language_info": {
   "codemirror_mode": {
    "name": "ipython",
    "version": 3
   },
   "file_extension": ".py",
   "mimetype": "text/x-python",
   "name": "python",
   "nbconvert_exporter": "python",
   "pygments_lexer": "ipython3",
   "version": "3.9.7"
  }
 },
 "nbformat": 4,
 "nbformat_minor": 5
}
